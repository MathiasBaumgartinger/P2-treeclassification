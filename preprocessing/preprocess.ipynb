{
 "cells": [
  {
   "cell_type": "code",
   "execution_count": 2,
   "metadata": {},
   "outputs": [],
   "source": [
    "# Data preparation for the ML-pipeline\n",
    "\n",
    "import os\n",
    "import subprocess\n",
    "import numpy as np\n",
    "from PIL import Image\n",
    "import cv2\n",
    "import matplotlib.pyplot as plt\n",
    "import imutils\n",
    "import pathlib\n",
    "import shutil"
   ]
  },
  {
   "cell_type": "code",
   "execution_count": 10,
   "metadata": {},
   "outputs": [
    {
     "name": "stdout",
     "output_type": "stream",
     "text": [
      "None\n",
      "None\n"
     ]
    }
   ],
   "source": [
    "# Tile the huge dataset at a certain zoom level (resolution per tile)\n",
    "# Written down for the sake of completeness\n",
    "# https://gdal.org/programs/gdal2tiles.html\n",
    "\n",
    "SOURCE = \"./smallarea.tif\"\n",
    "DESTINATION = \"./smallareatiled\"\n",
    "GDAL2TILES = \"C:/devtools/anaconda3/lib/site-packages/GDAL-3.0.2-py3.9-win-amd64.egg-info/scripts/gdal2tiles.py\"\n",
    "ZOOM = \"10\"\n",
    "THREADS = \"8\"\n",
    "NODATA_VAL = \"0\"\n",
    "\n",
    "process = subprocess.run([\n",
    "        \"python\", \n",
    "        GDAL2TILES,\n",
    "        f\"--zoom={ZOOM}\",\n",
    "        SOURCE,\n",
    "        DESTINATION,\n",
    "        \"-x\",\n",
    "        f\"--processes={THREADS}\",\n",
    "        f\"-a {NODATA_VAL}\"\n",
    "    ], shell=True)\n",
    "\n",
    "print(str(process.stdout)) \n",
    "print(str(process.stderr))\n"
   ]
  },
  {
   "cell_type": "code",
   "execution_count": null,
   "metadata": {},
   "outputs": [],
   "source": [
    "# For greyscale (single-band) images ``gdal2tiles`` faces some problems as it expects the data in a different format\n",
    "# https://gis.stackexchange.com/questions/200251/how-to-use-gdal2tiles-on-a-custom-tiff-image-recieved-from-providers-to-generate\n",
    "\n",
    "stream = os.popen(\"python C:/devtools/anaconda3/lib/site-packages/GDAL-3.0.2-py3.9-win-amd64.egg-info/scripts/gdal_translate -of GTiff -ot byte ./atlamb_W_nDOM_50cm.tif ./atlambbytes_W_nDOM_50cm.tif -scale 0 518\")\n",
    "output = stream.read()\n",
    "print(output)"
   ]
  },
  {
   "cell_type": "code",
   "execution_count": 12,
   "metadata": {},
   "outputs": [],
   "source": [
    "# Copy the files into one directory accordingly (from previous structure of \"[...]/<zoom-level>/<row-id>/<column-id>.jpg\")\n",
    "import ctypes\n",
    "\n",
    "#                      actual     mask      merged\n",
    "MODE: ctypes.c_uint8 = 0b1     #| 0b10    | 0b100\n",
    "\n",
    "ZOOM_LVL = \"20\"\n",
    "PATH_TO_MASK = \"./tiled_mask/20\"\n",
    "PATH_TO_ACTUAL = \"./tiled/20\"\n",
    "\n",
    "path_mask = pathlib.Path(PATH_TO_MASK)\n",
    "path_actual = pathlib.Path(PATH_TO_ACTUAL)\n",
    "\n",
    "destination_dataset = \"./smallareatiled/fused20\"\n",
    "\n",
    "for p in path_actual.rglob(\"*\"):\n",
    "    p = p.as_posix()\n",
    "    if p.endswith(\".png\") or p.endswith(\".jpg\"):\n",
    "        tile_path = p[p.index(ZOOM_LVL)+3:]\n",
    "        tile_name = tile_path.replace(\"/\", \"-\")\n",
    "        \n",
    "        if (MODE & 0b1):\n",
    "            shutil.copy(os.path.join(path_actual, tile_path), os.path.join(destination_dataset, tile_name))\n",
    "        if (MODE & 0b10):\n",
    "            shutil.copy(os.path.join(path_mask, tile_path), os.path.join(destination_dataset, tile_name))\n",
    "        \n",
    "        # For some cases it might be handy to have them side by side for comparisions\n",
    "        if (MODE & 0b100):\n",
    "            shutil.copy(os.path.join(path_actual, tile_path), os.path.join(destination_dataset + \"merged\", tile_name + \"-actual.png\"))\n",
    "            shutil.copy(os.path.join(path_mask, tile_path), os.path.join(destination_dataset + \"merged\", tile_name + \"-mask.png\"))"
   ]
  },
  {
   "cell_type": "code",
   "execution_count": null,
   "metadata": {},
   "outputs": [],
   "source": [
    "# Creating a binary mask from an rgb output\n",
    "# Geodata preprocessing might export it as rgb images which is unfit for most (binary) ML-pipelines ...\n",
    "\n",
    "masks_path = pathlib.Path(\"C:/Users/mathias/Documents/Sync/Master/sem3/P2/dataset/mask\")\n",
    "destination_dataset = \"C:/Users/mathias/Documents/Sync/Master/sem3/P2/dataset/mask_bin\"\n",
    "\n",
    "for p in masks_path.rglob(\"*\"):\n",
    "    if p.name.endswith(\".png\"):\n",
    "        tile_name = p.as_uri()[p.as_uri().rfind(\"/\")+1:]\n",
    "        \n",
    "        img = Image.open(p.absolute()).convert(\"RGBA\")\n",
    "        img = np.array(img)\n",
    "\n",
    "        # Get the alpha value of each pixel\n",
    "        alphas = img[:, :, 3]\n",
    "\n",
    "        # Find the indices where the alpha is bigger 0\n",
    "        not_transparent_indices = np.where(alphas > 0)\n",
    "\n",
    "        # Greyscale mask: 0 = black, 255 = white\n",
    "        mask = np.zeros((img.shape[0], img.shape[1]), dtype=\"uint8\")\n",
    "        mask[not_transparent_indices] = 255\n",
    "\n",
    "        cv2.imwrite(os.path.join(destination_dataset, tile_name), mask)"
   ]
  },
  {
   "cell_type": "code",
   "execution_count": 7,
   "metadata": {},
   "outputs": [
    {
     "name": "stdout",
     "output_type": "stream",
     "text": [
      "(1, 1020, 1, 2)\n"
     ]
    },
    {
     "data": {
      "image/png": "[encoded data removed]",
      "image/svg+xml": "<?xml version=\"1.0\" encoding=\"utf-8\" standalone=\"no\"?>\n<!DOCTYPE svg PUBLIC \"-//W3C//DTD SVG 1.1//EN\"\n  \"http://www.w3.org/Graphics/SVG/1.1/DTD/svg11.dtd\">\n<svg xmlns:xlink=\"http://www.w3.org/1999/xlink\" width=\"262.799687pt\" height=\"251.892656pt\" viewBox=\"0 0 262.799687 251.892656\" xmlns=\"http://www.w3.org/2000/svg\" version=\"1.1\">\n <metadata>\n  <rdf:RDF xmlns:dc=\"http://purl.org/dc/elements/1.1/\" xmlns:cc=\"http://creativecommons.org/ns#\" xmlns:rdf=\"http://www.w3.org/1999/02/22-rdf-syntax-ns#\">\n   <cc:Work>\n    <dc:type rdf:resource=\"http://purl.org/dc/dcmitype/StillImage\"/>\n    <dc:date>2022-01-20T19:13:04.577608</dc:date>\n    <dc:format>image/svg+xml</dc:format>\n    <dc:creator>\n     <cc:Agent>\n      <dc:title>Matplotlib v3.5.0, https://matplotlib.org/</dc:title>\n     </cc:Agent>\n    </dc:creator>\n   </cc:Work>\n  </rdf:RDF>\n </metadata>\n <defs>\n  <style type=\"text/css\">*{stroke-linejoin: round; stroke-linecap: butt}</style>\n </defs>\n <g id=\"figure_1\">\n  <g id=\"patch_1\">\n   <path d=\"M 0 251.892656 \nL 262.799687 251.892656 \nL 262.799687 0 \nL 0 0 \nL 0 251.892656 \nz\n\" style=\"fill: none\"/>\n  </g>\n  <g id=\"axes_1\">\n   <g id=\"patch_2\">\n    <path d=\"M 33.2875 228.014531 \nL 250.7275 228.014531 \nL 250.7275 10.574531 \nL 33.2875 10.574531 \nz\n\" style=\"fill: #ffffff\"/>\n   </g>\n   <g clip-path=\"url(#p017d5f5d7f)\">\n    <image xlink:href=\"data:image/png;base64,\niVBORw0KGgoAAAANSUhEUgAAANoAAADaCAYAAADAHVzbAAACzElEQVR4nO3Tu02CYQBA0Q+lMtFSLGUNHx0jsIOF41g5hUsQ16CGTq0JFszg/RM8Z4Lb3Nlqtj4O4E/NxxjjcnE7fh6WU7fA2bn+3I7Dbn8a7ftpOTZv71M3wdl5fn0ZVx/7cTF1CPwHRoOA0SBgNAgYDQJGg4DRIGA0CBgNAkaDgNEgYDQIGA0CRoOA0SBgNAgYDQJGg4DRIGA0CBgNAkaDgNEgYDQIGA0CRoOA0SBgNAgYDQJGg4DRIGA0CBgNAkaDgNEgYDQIGA0CRoOA0SBgNAgYDQJGg4DRIGA0CBgNAkaDgNEgYDQIGA0CRoOA0SBgNAgYDQJGg4DRIGA0CBgNAkaDgNEgYDQIGA0CRoOA0SBgNAgYDQJGg4DRIGA0CBgNAkaDgNEgYDQIGA0CRoOA0SBgNAgYDQJGg4DRIGA0CBgNAkaDgNEgYDQIGA0CRoOA0SBgNAgYDQJGg4DRIGA0CBgNAkaDgNEgYDQIGA0CRoOA0SBgNAgYDQJGg4DRIGA0CBgNAkaDgNEgYDQIGA0CRoOA0SBgNAgYDQJGg4DRIGA0CBgNAkaDgNEgYDQIGA0CRoOA0SBgNAgYDQJGg4DRIGA0CBgNAkaDgNEgYDQIGA0CRoOA0SBgNAgYDQJGg4DRIGA0CBgNAkaDgNEgYDQIGA0CRoOA0SBgNAgYDQJGg4DRIGA0CBgNAkaDgNEgYDQIGA0CRoOA0SBgNAgYDQJGg4DRIGA0CBgNAkaDgNEgYDQIGA0CRoOA0SBgNAgYDQJGg4DRIGA0CBgNAkaDgNEgYDQIGA0CRoOA0SBgNAgYDQJGg4DRIGA0CBgNAkaDgNEgYDQIGA0CRoOA0SBgNAgYDQJGg4DRIGA0CBgNAkaDgNEgYDQIGA0CRoOA0SBgNAgYDQJGg4DRIGA0CBgNArPVbH2c3y3G1+P91C1wdm4223HY7U+jTR0D5+4XYRsYbyT5tdcAAAAASUVORK5CYII=\" id=\"image275c0a7ca9\" transform=\"scale(1 -1)translate(0 -218)\" x=\"33.2875\" y=\"-10.014531\" width=\"218\" height=\"218\"/>\n   </g>\n   <g id=\"matplotlib.axis_1\">\n    <g id=\"xtick_1\">\n     <g id=\"line2d_1\">\n      <defs>\n       <path id=\"m5b55a6579d\" d=\"M 0 0 \nL 0 3.5 \n\" style=\"stroke: #000000; stroke-width: 0.8\"/>\n      </defs>\n      <g>\n       <use xlink:href=\"#m5b55a6579d\" x=\"33.712188\" y=\"228.014531\" style=\"stroke: #000000; stroke-width: 0.8\"/>\n      </g>\n     </g>\n     <g id=\"text_1\">\n      <!-- 0 -->\n      <g transform=\"translate(30.530938 242.612969)scale(0.1 -0.1)\">\n       <defs>\n        <path id=\"DejaVuSans-30\" d=\"M 2034 4250 \nQ 1547 4250 1301 3770 \nQ 1056 3291 1056 2328 \nQ 1056 1369 1301 889 \nQ 1547 409 2034 409 \nQ 2525 409 2770 889 \nQ 3016 1369 3016 2328 \nQ 3016 3291 2770 3770 \nQ 2525 4250 2034 4250 \nz\nM 2034 4750 \nQ 2819 4750 3233 4129 \nQ 3647 3509 3647 2328 \nQ 3647 1150 3233 529 \nQ 2819 -91 2034 -91 \nQ 1250 -91 836 529 \nQ 422 1150 422 2328 \nQ 422 3509 836 4129 \nQ 1250 4750 2034 4750 \nz\n\" transform=\"scale(0.015625)\"/>\n       </defs>\n       <use xlink:href=\"#DejaVuSans-30\"/>\n      </g>\n     </g>\n    </g>\n    <g id=\"xtick_2\">\n     <g id=\"line2d_2\">\n      <g>\n       <use xlink:href=\"#m5b55a6579d\" x=\"76.180937\" y=\"228.014531\" style=\"stroke: #000000; stroke-width: 0.8\"/>\n      </g>\n     </g>\n     <g id=\"text_2\">\n      <!-- 50 -->\n      <g transform=\"translate(69.818438 242.612969)scale(0.1 -0.1)\">\n       <defs>\n        <path id=\"DejaVuSans-35\" d=\"M 691 4666 \nL 3169 4666 \nL 3169 4134 \nL 1269 4134 \nL 1269 2991 \nQ 1406 3038 1543 3061 \nQ 1681 3084 1819 3084 \nQ 2600 3084 3056 2656 \nQ 3513 2228 3513 1497 \nQ 3513 744 3044 326 \nQ 2575 -91 1722 -91 \nQ 1428 -91 1123 -41 \nQ 819 9 494 109 \nL 494 744 \nQ 775 591 1075 516 \nQ 1375 441 1709 441 \nQ 2250 441 2565 725 \nQ 2881 1009 2881 1497 \nQ 2881 1984 2565 2268 \nQ 2250 2553 1709 2553 \nQ 1456 2553 1204 2497 \nQ 953 2441 691 2322 \nL 691 4666 \nz\n\" transform=\"scale(0.015625)\"/>\n       </defs>\n       <use xlink:href=\"#DejaVuSans-35\"/>\n       <use xlink:href=\"#DejaVuSans-30\" x=\"63.623047\"/>\n      </g>\n     </g>\n    </g>\n    <g id=\"xtick_3\">\n     <g id=\"line2d_3\">\n      <g>\n       <use xlink:href=\"#m5b55a6579d\" x=\"118.649687\" y=\"228.014531\" style=\"stroke: #000000; stroke-width: 0.8\"/>\n      </g>\n     </g>\n     <g id=\"text_3\">\n      <!-- 100 -->\n      <g transform=\"translate(109.105937 242.612969)scale(0.1 -0.1)\">\n       <defs>\n        <path id=\"DejaVuSans-31\" d=\"M 794 531 \nL 1825 531 \nL 1825 4091 \nL 703 3866 \nL 703 4441 \nL 1819 4666 \nL 2450 4666 \nL 2450 531 \nL 3481 531 \nL 3481 0 \nL 794 0 \nL 794 531 \nz\n\" transform=\"scale(0.015625)\"/>\n       </defs>\n       <use xlink:href=\"#DejaVuSans-31\"/>\n       <use xlink:href=\"#DejaVuSans-30\" x=\"63.623047\"/>\n       <use xlink:href=\"#DejaVuSans-30\" x=\"127.246094\"/>\n      </g>\n     </g>\n    </g>\n    <g id=\"xtick_4\">\n     <g id=\"line2d_4\">\n      <g>\n       <use xlink:href=\"#m5b55a6579d\" x=\"161.118437\" y=\"228.014531\" style=\"stroke: #000000; stroke-width: 0.8\"/>\n      </g>\n     </g>\n     <g id=\"text_4\">\n      <!-- 150 -->\n      <g transform=\"translate(151.574688 242.612969)scale(0.1 -0.1)\">\n       <use xlink:href=\"#DejaVuSans-31\"/>\n       <use xlink:href=\"#DejaVuSans-35\" x=\"63.623047\"/>\n       <use xlink:href=\"#DejaVuSans-30\" x=\"127.246094\"/>\n      </g>\n     </g>\n    </g>\n    <g id=\"xtick_5\">\n     <g id=\"line2d_5\">\n      <g>\n       <use xlink:href=\"#m5b55a6579d\" x=\"203.587187\" y=\"228.014531\" style=\"stroke: #000000; stroke-width: 0.8\"/>\n      </g>\n     </g>\n     <g id=\"text_5\">\n      <!-- 200 -->\n      <g transform=\"translate(194.043438 242.612969)scale(0.1 -0.1)\">\n       <defs>\n        <path id=\"DejaVuSans-32\" d=\"M 1228 531 \nL 3431 531 \nL 3431 0 \nL 469 0 \nL 469 531 \nQ 828 903 1448 1529 \nQ 2069 2156 2228 2338 \nQ 2531 2678 2651 2914 \nQ 2772 3150 2772 3378 \nQ 2772 3750 2511 3984 \nQ 2250 4219 1831 4219 \nQ 1534 4219 1204 4116 \nQ 875 4013 500 3803 \nL 500 4441 \nQ 881 4594 1212 4672 \nQ 1544 4750 1819 4750 \nQ 2544 4750 2975 4387 \nQ 3406 4025 3406 3419 \nQ 3406 3131 3298 2873 \nQ 3191 2616 2906 2266 \nQ 2828 2175 2409 1742 \nQ 1991 1309 1228 531 \nz\n\" transform=\"scale(0.015625)\"/>\n       </defs>\n       <use xlink:href=\"#DejaVuSans-32\"/>\n       <use xlink:href=\"#DejaVuSans-30\" x=\"63.623047\"/>\n       <use xlink:href=\"#DejaVuSans-30\" x=\"127.246094\"/>\n      </g>\n     </g>\n    </g>\n    <g id=\"xtick_6\">\n     <g id=\"line2d_6\">\n      <g>\n       <use xlink:href=\"#m5b55a6579d\" x=\"246.055937\" y=\"228.014531\" style=\"stroke: #000000; stroke-width: 0.8\"/>\n      </g>\n     </g>\n     <g id=\"text_6\">\n      <!-- 250 -->\n      <g transform=\"translate(236.512188 242.612969)scale(0.1 -0.1)\">\n       <use xlink:href=\"#DejaVuSans-32\"/>\n       <use xlink:href=\"#DejaVuSans-35\" x=\"63.623047\"/>\n       <use xlink:href=\"#DejaVuSans-30\" x=\"127.246094\"/>\n      </g>\n     </g>\n    </g>\n   </g>\n   <g id=\"matplotlib.axis_2\">\n    <g id=\"ytick_1\">\n     <g id=\"line2d_7\">\n      <defs>\n       <path id=\"m755164b664\" d=\"M 0 0 \nL -3.5 0 \n\" style=\"stroke: #000000; stroke-width: 0.8\"/>\n      </defs>\n      <g>\n       <use xlink:href=\"#m755164b664\" x=\"33.2875\" y=\"10.999219\" style=\"stroke: #000000; stroke-width: 0.8\"/>\n      </g>\n     </g>\n     <g id=\"text_7\">\n      <!-- 0 -->\n      <g transform=\"translate(19.925 14.798438)scale(0.1 -0.1)\">\n       <use xlink:href=\"#DejaVuSans-30\"/>\n      </g>\n     </g>\n    </g>\n    <g id=\"ytick_2\">\n     <g id=\"line2d_8\">\n      <g>\n       <use xlink:href=\"#m755164b664\" x=\"33.2875\" y=\"53.467969\" style=\"stroke: #000000; stroke-width: 0.8\"/>\n      </g>\n     </g>\n     <g id=\"text_8\">\n      <!-- 50 -->\n      <g transform=\"translate(13.5625 57.267188)scale(0.1 -0.1)\">\n       <use xlink:href=\"#DejaVuSans-35\"/>\n       <use xlink:href=\"#DejaVuSans-30\" x=\"63.623047\"/>\n      </g>\n     </g>\n    </g>\n    <g id=\"ytick_3\">\n     <g id=\"line2d_9\">\n      <g>\n       <use xlink:href=\"#m755164b664\" x=\"33.2875\" y=\"95.936719\" style=\"stroke: #000000; stroke-width: 0.8\"/>\n      </g>\n     </g>\n     <g id=\"text_9\">\n      <!-- 100 -->\n      <g transform=\"translate(7.2 99.735938)scale(0.1 -0.1)\">\n       <use xlink:href=\"#DejaVuSans-31\"/>\n       <use xlink:href=\"#DejaVuSans-30\" x=\"63.623047\"/>\n       <use xlink:href=\"#DejaVuSans-30\" x=\"127.246094\"/>\n      </g>\n     </g>\n    </g>\n    <g id=\"ytick_4\">\n     <g id=\"line2d_10\">\n      <g>\n       <use xlink:href=\"#m755164b664\" x=\"33.2875\" y=\"138.405469\" style=\"stroke: #000000; stroke-width: 0.8\"/>\n      </g>\n     </g>\n     <g id=\"text_10\">\n      <!-- 150 -->\n      <g transform=\"translate(7.2 142.204688)scale(0.1 -0.1)\">\n       <use xlink:href=\"#DejaVuSans-31\"/>\n       <use xlink:href=\"#DejaVuSans-35\" x=\"63.623047\"/>\n       <use xlink:href=\"#DejaVuSans-30\" x=\"127.246094\"/>\n      </g>\n     </g>\n    </g>\n    <g id=\"ytick_5\">\n     <g id=\"line2d_11\">\n      <g>\n       <use xlink:href=\"#m755164b664\" x=\"33.2875\" y=\"180.874219\" style=\"stroke: #000000; stroke-width: 0.8\"/>\n      </g>\n     </g>\n     <g id=\"text_11\">\n      <!-- 200 -->\n      <g transform=\"translate(7.2 184.673438)scale(0.1 -0.1)\">\n       <use xlink:href=\"#DejaVuSans-32\"/>\n       <use xlink:href=\"#DejaVuSans-30\" x=\"63.623047\"/>\n       <use xlink:href=\"#DejaVuSans-30\" x=\"127.246094\"/>\n      </g>\n     </g>\n    </g>\n    <g id=\"ytick_6\">\n     <g id=\"line2d_12\">\n      <g>\n       <use xlink:href=\"#m755164b664\" x=\"33.2875\" y=\"223.342969\" style=\"stroke: #000000; stroke-width: 0.8\"/>\n      </g>\n     </g>\n     <g id=\"text_12\">\n      <!-- 250 -->\n      <g transform=\"translate(7.2 227.142188)scale(0.1 -0.1)\">\n       <use xlink:href=\"#DejaVuSans-32\"/>\n       <use xlink:href=\"#DejaVuSans-35\" x=\"63.623047\"/>\n       <use xlink:href=\"#DejaVuSans-30\" x=\"127.246094\"/>\n      </g>\n     </g>\n    </g>\n   </g>\n   <g id=\"patch_3\">\n    <path d=\"M 33.2875 228.014531 \nL 33.2875 10.574531 \n\" style=\"fill: none; stroke: #000000; stroke-width: 0.8; stroke-linejoin: miter; stroke-linecap: square\"/>\n   </g>\n   <g id=\"patch_4\">\n    <path d=\"M 250.7275 228.014531 \nL 250.7275 10.574531 \n\" style=\"fill: none; stroke: #000000; stroke-width: 0.8; stroke-linejoin: miter; stroke-linecap: square\"/>\n   </g>\n   <g id=\"patch_5\">\n    <path d=\"M 33.2875 228.014531 \nL 250.7275 228.014531 \n\" style=\"fill: none; stroke: #000000; stroke-width: 0.8; stroke-linejoin: miter; stroke-linecap: square\"/>\n   </g>\n   <g id=\"patch_6\">\n    <path d=\"M 33.2875 10.574531 \nL 250.7275 10.574531 \n\" style=\"fill: none; stroke: #000000; stroke-width: 0.8; stroke-linejoin: miter; stroke-linecap: square\"/>\n   </g>\n  </g>\n </g>\n <defs>\n  <clipPath id=\"p017d5f5d7f\">\n   <rect x=\"33.2875\" y=\"10.574531\" width=\"217.44\" height=\"217.44\"/>\n  </clipPath>\n </defs>\n</svg>\n",
      "text/plain": [
       "<Figure size 432x288 with 1 Axes>"
      ]
     },
     "metadata": {
      "needs_background": "light"
     },
     "output_type": "display_data"
    }
   ],
   "source": [
    "# Testing necessary steps for the ML pipeline\n",
    "# Finding all features and their bounding boxes\n",
    "\n",
    "image_path = \"C:/boku/geodata/Wien/BaumKatAUTLAMB/tiled_exclusive/20/571710/684703.png\"\n",
    "\n",
    "img = Image.open(image_path).convert(\"RGBA\")\n",
    "img = np.array(img)\n",
    "\n",
    "alphas = img[:, :, 3]\n",
    "\n",
    "not_transparent_indices = np.where(alphas > 0)\n",
    "\n",
    "mask = np.zeros((img.shape[0], img.shape[1]), dtype=\"uint8\")\n",
    "mask[not_transparent_indices] = 255\n",
    "\n",
    "# find the contours in the mask\n",
    "cnts = cv2.findContours(mask.copy(), cv2.RETR_TREE, cv2.CHAIN_APPROX_NONE)\n",
    "cnts = imutils.grab_contours(cnts)\n",
    "print(np.array(cnts).shape)\n",
    "\n",
    "for i, c in enumerate(cnts):\n",
    "    # draw the contour and show it\n",
    "    cv2.drawContours(mask, [c], -1, 200, 2)\n",
    "    \n",
    "    maxs = np.amax(c, axis=0).reshape(2)\n",
    "    mins = np.amin(c, axis=0).reshape(2)\n",
    "\n",
    "    mask = cv2.rectangle(mask, mins, maxs, 200, 2)\n",
    "\n",
    "    cv2.imshow(\"Image\", mask)\n",
    "    plt.imshow(mask)\n",
    "    cv2.waitKey(0)\n",
    "    cv2.destroyAllWindows()"
   ]
  },
  {
   "cell_type": "code",
   "execution_count": 58,
   "metadata": {},
   "outputs": [
    {
     "name": "stdout",
     "output_type": "stream",
     "text": [
      "(1, 256, 256)\n"
     ]
    }
   ],
   "source": [
    "image_path = \"C:/Users/mathias/Documents/Sync/Master/sem3/P2/dataset/actual/571448-684976.png\"\n",
    "mask_path = \"C:/Users/mathias/Documents/Sync/Master/sem3/P2/dataset/mask_bin/571448-684976.png\"\n",
    "\n",
    "img = Image.open(image_path).convert(\"RGB\")\n",
    "mask = Image.open(mask_path)\n",
    "mask = np.array(mask)\n",
    "\n",
    "# find the contours in the mask (= individual features (small errors here))\n",
    "cnts = cv2.findContours(mask.copy(), cv2.RETR_TREE, cv2.CHAIN_APPROX_NONE)\n",
    "cnts = imutils.grab_contours(cnts)\n",
    "\n",
    "boxes = []\n",
    "# loop over the contours and define its bounding boxes\n",
    "for c in cnts:\n",
    "    maxs = np.amax(c, axis=0).reshape(2)\n",
    "    mins = np.amin(c, axis=0).reshape(2)\n",
    "    boxes.append([mins[0], mins[1], maxs[0], maxs[1]])\n",
    "\n",
    "# Number of Bounding Boxes\n",
    "obj_ids = np.array(list(range(len(boxes))))\n",
    "# Split mask into seperate mask\n",
    "\n",
    "mask = mask[None, :, :]\n",
    "masks = np.array([x > 0 for x in (y for y in mask)])\n",
    "\n",
    "print(masks.shape)"
   ]
  }
 ],
 "metadata": {
  "interpreter": {
   "hash": "b7fa381e3d71c64dcb3e0783738a7e8960c88fa06dde82347206bcff73eabdc4"
  },
  "kernelspec": {
   "display_name": "Python 3.7.11 64-bit ('tensorflow': conda)",
   "language": "python",
   "name": "python3"
  },
  "language_info": {
   "codemirror_mode": {
    "name": "ipython",
    "version": 3
   },
   "file_extension": ".py",
   "mimetype": "text/x-python",
   "name": "python",
   "nbconvert_exporter": "python",
   "pygments_lexer": "ipython3",
   "version": "3.7.11"
  },
  "orig_nbformat": 4
 },
 "nbformat": 4,
 "nbformat_minor": 2
}
